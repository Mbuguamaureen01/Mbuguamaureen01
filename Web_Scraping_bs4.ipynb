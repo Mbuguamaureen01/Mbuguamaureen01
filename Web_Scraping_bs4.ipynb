{
  "nbformat": 4,
  "nbformat_minor": 0,
  "metadata": {
    "colab": {
      "provenance": [],
      "authorship_tag": "ABX9TyPs556ehUbp6mHXuR5Ng9M8",
      "include_colab_link": true
    },
    "kernelspec": {
      "name": "python3",
      "display_name": "Python 3"
    },
    "language_info": {
      "name": "python"
    }
  },
  "cells": [
    {
      "cell_type": "markdown",
      "metadata": {
        "id": "view-in-github",
        "colab_type": "text"
      },
      "source": [
        "<a href=\"https://colab.research.google.com/github/Mbuguamaureen01/Mbuguamaureen01/blob/main/Web_Scraping_bs4.ipynb\" target=\"_parent\"><img src=\"https://colab.research.google.com/assets/colab-badge.svg\" alt=\"Open In Colab\"/></a>"
      ]
    },
    {
      "cell_type": "code",
      "source": [
        "import requests\n",
        "import re"
      ],
      "metadata": {
        "id": "7BRFXqLTTQSu"
      },
      "execution_count": null,
      "outputs": []
    },
    {
      "cell_type": "code",
      "source": [
        "#old way to scrape without libraries\n",
        "#get the data\n",
        "data= requests.get(\"https://avala.ai/platform/annotation_workflows\")\n",
        "\n",
        "#extract the phone numbers and emails\n",
        "Phone_no = re.findall(r'(\\(?[0-9]{3}\\)?(?:\\-|\\s|\\.)?[0-9]{3}(?:\\-|\\.)[0-9]{4})', data.text)\n",
        "emails = re.findall(r'([\\d\\w\\.]+@[\\d\\w\\.\\-]+\\.\\w+)', data.text)\n",
        "\n",
        "print(Phone_no,emails)"
      ],
      "metadata": {
        "id": "Gwo3KKZwTZQn"
      },
      "execution_count": null,
      "outputs": []
    },
    {
      "cell_type": "code",
      "source": [
        "#using beautiful soup\n",
        "\n",
        "import requests\n",
        "from bs4 import BeautifulSoup"
      ],
      "metadata": {
        "id": "Ieu3UnRLWmlb"
      },
      "execution_count": null,
      "outputs": []
    },
    {
      "cell_type": "code",
      "source": [
        "#get the data\n",
        "\n",
        "data = requests.get('')\n",
        "\n",
        "#load data into bs4\n",
        "\n",
        "soup = BeautifulSoup(data.text, 'html.parser')\n",
        "\n",
        "#get data simply by looking for each tr element\n",
        "data = []\n",
        "for tr in soup.find_all('tr'):\n",
        " values =  [td.text for td in tr.find_all('td'):]\n",
        "    data.append(values)\n",
        "\n",
        "    print(data)\n",
        "\n",
        "    #get data only where rows are marked as special\n",
        "    data = []\n",
        "for tr in soup.find_all('tr', {'class:'special'}):\n",
        " values =  [td.text for td in tr.find_all('td'):]\n",
        "    data.append(values)\n",
        "\n",
        "    print(data)\n",
        "\n",
        "\n",
        "\n"
      ],
      "metadata": {
        "id": "Rujifx6-W2x9"
      },
      "execution_count": null,
      "outputs": []
    },
    {
      "cell_type": "code",
      "source": [
        "#get data within a specific element\n",
        "       data = []\n",
        "       div = soup.find('div', {'class':'special'})\n",
        "       for tr in div.find_all('tr'):\n",
        "        values =  [td.text for td in tr.find_all('td'):]\n",
        "    data.append(values)\n",
        "\n",
        "    print(data)"
      ],
      "metadata": {
        "id": "vQ3IxUfMbxxG"
      },
      "execution_count": null,
      "outputs": []
    }
  ]
}